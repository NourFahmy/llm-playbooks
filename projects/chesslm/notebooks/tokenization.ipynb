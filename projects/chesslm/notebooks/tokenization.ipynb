{
 "cells": [
  {
   "cell_type": "code",
   "execution_count": 1,
   "metadata": {},
   "outputs": [],
   "source": [
    "import gzip\n",
    "import os\n",
    "from chesslm.lichess import LichessPGNEntry\n",
    "\n",
    "with gzip.open(os.path.expanduser(\"~/Data/standard_rated_2013-01_filtered.jsonl.gz\"), \"rb\") as f:\n",
    "    entries = [LichessPGNEntry.model_validate_json(line) for line in f.readlines()]"
   ]
  },
  {
   "cell_type": "code",
   "execution_count": 2,
   "metadata": {},
   "outputs": [
    {
     "data": {
      "text/plain": [
       "'https://lichess.org/fgfzhz1f'"
      ]
     },
     "metadata": {},
     "output_type": "display_data"
    },
    {
     "name": "stdout",
     "output_type": "stream",
     "text": [
      "1. d4 Nf6 2. Nc3 e6 3. e4 Be7 4. e5 Nd5 5. Nxd5 exd5 6. Bd3 O-O 7. Nf3 d6 8. exd6 Bxd6 9. O-O Bg4 10. Be2 Nd7 11. Qd3 Nf6 12. Bg5 c6 13. Bxf6 Qxf6 14. h3 Bd7 15. Nh2 Rae8 16. Bg4 Bxh2+ 17. Kxh2 Bxg4 18. hxg4 Qf4+ 19. Qg3 Qxd4 20. c3 Qd2 21. Rab1 Re2 22. Qc7 Rxf2 23. Rxf2 Qxf2 24. Qxb7 Qf4+ 25. Kh3 h5 26. gxh5 Qf5+ 27. g4 Qxb1 28. Qxc6 Qxb2 29. Qxd5 Qxc3+ 30. Kh4 Qf6+ 31. Kh3 Rd8 32. Qb3 Qd4 33. Kh4 Qd3 34. Qa4 Rd4 35. Qxa7 Qe4 36. Qb8+ Kh7 37. Qg3 Rd3 38. Qg1 Qe7+ 39. g5 Qe4+ 40. Qg4 Qe1+ 41. Qg3 Qxg3# 0-1\n"
     ]
    }
   ],
   "source": [
    "import random\n",
    "\n",
    "sample: LichessPGNEntry = random.sample(entries, 1)[0]\n",
    "display(sample.site)\n",
    "print(sample.plain_sequence)"
   ]
  },
  {
   "cell_type": "code",
   "execution_count": 15,
   "metadata": {},
   "outputs": [],
   "source": [
    "vocabulary = [\n",
    "    # general\n",
    "    \" \",\n",
    "    *map(chr, range(48, 58)),  # 0-9\n",
    "    *map(chr, range(97, 105)),  # a-h\n",
    "\n",
    "    # pieces\n",
    "    \"B\", \"K\", \"N\", \"Q\", \"R\"\n",
    "\n",
    "    # start of turn\n",
    "    \".\",\n",
    "\n",
    "    # castling\n",
    "    \"O-O\", \"O-O-O\",\n",
    "\n",
    "    # kill / check(mate) / endgame\n",
    "    \"x\", \"+\", \"#\", \"0-1\", \"1-0\",\n",
    "]"
   ]
  },
  {
   "cell_type": "code",
   "execution_count": 18,
   "metadata": {},
   "outputs": [
    {
     "data": {
      "text/plain": [
       "104"
      ]
     },
     "execution_count": 18,
     "metadata": {},
     "output_type": "execute_result"
    }
   ],
   "source": [
    "ord(\"h\")"
   ]
  }
 ],
 "metadata": {
  "kernelspec": {
   "display_name": "cloudspace",
   "language": "python",
   "name": "python3"
  },
  "language_info": {
   "codemirror_mode": {
    "name": "ipython",
    "version": 3
   },
   "file_extension": ".py",
   "mimetype": "text/x-python",
   "name": "python",
   "nbconvert_exporter": "python",
   "pygments_lexer": "ipython3",
   "version": "3.10.14"
  }
 },
 "nbformat": 4,
 "nbformat_minor": 2
}
