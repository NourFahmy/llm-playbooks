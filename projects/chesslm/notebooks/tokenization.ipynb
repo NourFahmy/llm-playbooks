{
 "cells": [
  {
   "cell_type": "code",
   "execution_count": 1,
   "metadata": {},
   "outputs": [
    {
     "name": "stdout",
     "output_type": "stream",
     "text": [
      "37938\n"
     ]
    }
   ],
   "source": [
    "import gzip\n",
    "import os\n",
    "from chesslm.lichess import LichessPGNEntry\n",
    "\n",
    "with gzip.open(os.path.expanduser(\"~/Data/standard_rated_2013-01_filtered.jsonl.gz\"), \"rb\") as f:\n",
    "    entries: list[LichessPGNEntry] = [\n",
    "        LichessPGNEntry.model_validate_json(line)\n",
    "        for line in f.readlines()\n",
    "    ]\n",
    "\n",
    "print(len(entries))"
   ]
  },
  {
   "cell_type": "code",
   "execution_count": 2,
   "metadata": {},
   "outputs": [
    {
     "data": {
      "text/plain": [
       "(52.68, 0.840081185091465)"
      ]
     },
     "execution_count": 2,
     "metadata": {},
     "output_type": "execute_result"
    },
    {
     "data": {
      "image/png": "[encoded data removed]",
      "text/plain": [
       "<Figure size 640x480 with 1 Axes>"
      ]
     },
     "metadata": {},
     "output_type": "display_data"
    }
   ],
   "source": [
    "import matplotlib.pyplot as plt\n",
    "from more_itertools import first\n",
    "\n",
    "ys, xs, _ = plt.hist(\n",
    "    [entry.total_moves for entry in entries],\n",
    "    bins=50,\n",
    "    cumulative=True,\n",
    "    density=True,\n",
    ")\n",
    "\n",
    "first((float(x), float(y)) for x, y in zip(xs, ys) if x >= 50)"
   ]
  },
  {
   "cell_type": "code",
   "execution_count": 3,
   "metadata": {},
   "outputs": [],
   "source": [
    "import re\n",
    "import pygtrie\n",
    "from functools import cached_property\n",
    "from typing import Optional\n",
    "\n",
    "PGN_VOCAB: list[str] = [\" \"]  # spaces\n",
    "PGN_VOCAB += [str(i) for i in range(10)]  # 0-9\n",
    "PGN_VOCAB += [chr(i) for i in range(97, 105)]  # a-h\n",
    "PGN_VOCAB += [\"B\", \"K\", \"N\", \"Q\", \"R\"]  # pieces\n",
    "PGN_VOCAB += [f\"{x}.\" for x in range(51)]  # start of turn (up to 50 moves)\n",
    "PGN_VOCAB += [\"O-O\", \"O-O-O\", \"=\"]  # castling / promotion\n",
    "PGN_VOCAB += [\" \", \"x\", \"+\", \"#\"]  # capture / check(mate)\n",
    "PGN_VOCAB += [\"0-1\", \"1-0\", \"1/2-1/2\"]  # outcome\n",
    "\n",
    "UNK_TOKEN = \"<unk>\"\n",
    "UNK_TOKEN_ID = -1\n",
    "SPECIAL_TOKEN_IDS = {UNK_TOKEN: UNK_TOKEN_ID}\n",
    "\n",
    "class PGNTokenizer:\n",
    "    def __init__(self, vocab: Optional[list[str]] = None):\n",
    "        self.vocab = PGN_VOCAB.copy() if vocab is None else vocab.copy()\n",
    "        self.word_ids = SPECIAL_TOKEN_IDS.copy()\n",
    "        self.word_ids |= {word: i for i, word in enumerate(self.vocab)}\n",
    "\n",
    "    @cached_property\n",
    "    def re_vocab(self) -> re.Pattern:\n",
    "        re_special_chars = re.compile(r\"([\\+\\*\\?\\^\\$\\\\\\.\\[\\]\\{\\}\\(\\)\\|\\/])\")\n",
    "        re_words = sorted(re_special_chars.sub(r\"\\\\\\1\", word) for word in self.vocab)\n",
    "        return re.compile(\"(\" + \"|\".join(re_words[::-1]) + \")\")\n",
    "\n",
    "    def encode(self, text: str) -> list[int]:\n",
    "        token_ids: list[int] = []\n",
    "        while text:\n",
    "            if not (match := self.re_vocab.match(text)):\n",
    "                raise ValueError(f\"could not find next token for '{text}'\")\n",
    "            token_ids.append(self.word_ids[match.group()])\n",
    "            text = text[match.end() :]\n",
    "        return token_ids\n",
    "\n",
    "    def finditer_encode(self, text: str) -> list[int]:\n",
    "        token_ids: list[int] = []\n",
    "        end_ = 0\n",
    "        for match in self.re_vocab.finditer(text):\n",
    "            start, end = match.span()\n",
    "            if start != end_:\n",
    "                raise ValueError(f\"could not find next token for '{text[end_ : start]}'\")\n",
    "            end_ = end\n",
    "            token_ids.append(self.word_ids[match.group()])\n",
    "        return token_ids\n",
    "\n",
    "    @cached_property\n",
    "    def re_findall(self) -> re.Pattern:\n",
    "        re_special_chars = re.compile(r\"([\\+\\*\\?\\^\\$\\\\\\.\\[\\]\\{\\}\\(\\)\\|\\/])\")\n",
    "        re_words = sorted(re_special_chars.sub(r\"\\\\\\1\", word) for word in self.vocab)\n",
    "        return re.compile(\"(\" + \"|\".join(re_words[::-1]) + r\"|[^ ]+\" \")\")\n",
    "\n",
    "    def findall_encode(self, text: str) -> list[int]:\n",
    "        return [\n",
    "            self.word_ids.get(match, UNK_TOKEN_ID)\n",
    "            for match in self.re_findall.findall(text)\n",
    "        ]\n",
    "\n",
    "    @cached_property\n",
    "    def trie(self) -> pygtrie.CharTrie:\n",
    "        return pygtrie.CharTrie(self.word_ids)\n",
    "\n",
    "    def trie_encode(self, text: str) -> list[int]:\n",
    "        # A \"ground truth\" longest-match encoder. Very slow, only use for debugging.\n",
    "        token_ids: list[int] = []\n",
    "        while text:\n",
    "            word, i = self.trie.longest_prefix(text)\n",
    "            if not word:\n",
    "                raise ValueError(f\"could not find next token for '{text}'\")\n",
    "            token_ids.append(i)\n",
    "            text = text[len(word) :]\n",
    "        return token_ids\n",
    "\n",
    "    def decode(self, ids: list[int]) -> str:\n",
    "        return \"\".join(self.vocab[i] for i in ids)\n",
    "\n",
    "tokenizer = PGNTokenizer()"
   ]
  },
  {
   "cell_type": "code",
   "execution_count": 4,
   "metadata": {},
   "outputs": [
    {
     "name": "stdout",
     "output_type": "stream",
     "text": [
      "603 True\n",
      "603 True\n",
      "603 True\n",
      "603 True\n"
     ]
    }
   ],
   "source": [
    "import random\n",
    "\n",
    "samples = random.sample(entries, 20000)\n",
    "sample = samples[0]\n",
    "seq = sample.plain_sequence\n",
    "\n",
    "print(len(ids := tokenizer.trie_encode(seq)), tokenizer.decode(ids) == seq)\n",
    "print(len(ids := tokenizer.encode(seq)), tokenizer.decode(ids) == seq)\n",
    "print(len(ids := tokenizer.finditer_encode(seq)), tokenizer.decode(ids) == seq)\n",
    "print(len(ids := tokenizer.findall_encode(seq)), tokenizer.decode(ids) == seq)"
   ]
  },
  {
   "cell_type": "code",
   "execution_count": 5,
   "metadata": {},
   "outputs": [
    {
     "name": "stderr",
     "output_type": "stream",
     "text": [
      "100%|██████████| 20000/20000 [00:03<00:00, 5152.53it/s]\n"
     ]
    }
   ],
   "source": [
    "from tqdm import tqdm\n",
    "\n",
    "for sample in tqdm(samples):\n",
    "    tokenizer.findall_encode(sample.plain_sequence)"
   ]
  },
  {
   "cell_type": "code",
   "execution_count": 6,
   "metadata": {},
   "outputs": [
    {
     "name": "stdout",
     "output_type": "stream",
     "text": [
      "387 μs ± 25 μs per loop (mean ± std. dev. of 7 runs, 100 loops each)\n",
      "347 μs ± 31.3 μs per loop (mean ± std. dev. of 7 runs, 100 loops each)\n",
      "212 μs ± 25.2 μs per loop (mean ± std. dev. of 7 runs, 100 loops each)\n"
     ]
    }
   ],
   "source": [
    "def random_sequence() -> str:\n",
    "    return random.sample(entries, 1)[0].plain_sequence\n",
    "\n",
    "# %timeit -n100 tokenizer.trie_encode(random_sequence())\n",
    "%timeit -n100 tokenizer.encode(random_sequence())\n",
    "%timeit -n100 tokenizer.finditer_encode(random_sequence())\n",
    "%timeit -n100 tokenizer.findall_encode(random_sequence())"
   ]
  }
 ],
 "metadata": {
  "kernelspec": {
   "display_name": "cloudspace",
   "language": "python",
   "name": "python3"
  },
  "language_info": {
   "codemirror_mode": {
    "name": "ipython",
    "version": 3
   },
   "file_extension": ".py",
   "mimetype": "text/x-python",
   "name": "python",
   "nbconvert_exporter": "python",
   "pygments_lexer": "ipython3",
   "version": "3.10.14"
  }
 },
 "nbformat": 4,
 "nbformat_minor": 2
}
