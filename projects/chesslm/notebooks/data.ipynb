{
 "cells": [
  {
   "cell_type": "code",
   "execution_count": 1,
   "metadata": {},
   "outputs": [],
   "source": [
    "import os\n",
    "from chesslm.lichess import LichessPGNReader, LichessEntry\n",
    "\n",
    "DATA_DIR = os.path.expanduser(\"~/Data/\")\n",
    "FILENAME, TOTAL_GAMES = (\n",
    "    # \"standard_rated_2013-01\", 121_332\n",
    "    # \"standard_rated_2017-02\", 10_194_939\n",
    "    # \"standard_rated_2019-03\", 34_869_171\n",
    "    \"standard_rated_2019-10\", 40_440_254\n",
    ")\n",
    "\n",
    "def accept_entry(entry: LichessEntry) -> bool:\n",
    "    if entry.termination != \"Normal\":\n",
    "        return False\n",
    "    return entry.ends_with_checkmate or entry.result == \"1/2-1/2\"\n",
    "\n",
    "reader = LichessPGNReader(\n",
    "    os.path.join(DATA_DIR, f\"lichess_db_{FILENAME}.pgn.zst\"),\n",
    "    TOTAL_GAMES\n",
    ")"
   ]
  },
  {
   "cell_type": "code",
   "execution_count": 2,
   "metadata": {},
   "outputs": [
    {
     "name": "stderr",
     "output_type": "stream",
     "text": [
      "100%|██████████| 40440254/40440254 [15:07<00:00, 44542.19it/s] \n"
     ]
    },
    {
     "name": "stdout",
     "output_type": "stream",
     "text": [
      "11689080\n"
     ]
    }
   ],
   "source": [
    "%%time\n",
    "import pyarrow as pa\n",
    "\n",
    "tb = pa.Table.from_pylist(\n",
    "    [entry.model_dump() for entry in reader.tqdm_filter(accept_entry)]\n",
    ")\n",
    "print(len(tb))"
   ]
  },
  {
   "cell_type": "code",
   "execution_count": null,
   "metadata": {},
   "outputs": [],
   "source": [
    "%%time\n",
    "import pyarrow.parquet as pq\n",
    "\n",
    "pq.write_table(\n",
    "    tb,\n",
    "    os.path.join(DATA_DIR, f\"{FILENAME}_filtered.parquet.gz\"),\n",
    "    compression=\"gzip\"\n",
    ")"
   ]
  }
 ],
 "metadata": {
  "kernelspec": {
   "display_name": ".venv",
   "language": "python",
   "name": "python3"
  },
  "language_info": {
   "codemirror_mode": {
    "name": "ipython",
    "version": 3
   },
   "file_extension": ".py",
   "mimetype": "text/x-python",
   "name": "python",
   "nbconvert_exporter": "python",
   "pygments_lexer": "ipython3",
   "version": "3.11.7"
  }
 },
 "nbformat": 4,
 "nbformat_minor": 2
}
