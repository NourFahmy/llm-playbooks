{
 "cells": [
  {
   "cell_type": "code",
   "execution_count": null,
   "metadata": {},
   "outputs": [],
   "source": [
    "import os\n",
    "from chesslm.lichess import LichessPGNReader, LichessPGNEntry\n",
    "\n",
    "DATA_DIR = os.path.expanduser(\"~/Data/lichess\")\n",
    "FILENAME, TOTAL_GAMES = (\n",
    "    \"standard_rated_2013-01\", 121_332\n",
    "    # \"standard_rated_2017-02\", 10_194_939\n",
    "    # \"standard_rated_2019-03\", 34_869_171\n",
    "    # \"standard_rated_2019-10\", 40_440_254\n",
    ")\n",
    "\n",
    "def accept_entry(entry: LichessPGNEntry) -> bool:\n",
    "    if entry.termination != \"Normal\":\n",
    "        return False\n",
    "    return entry.ends_with_checkmate or entry.result == \"1/2-1/2\"\n",
    "\n",
    "reader = LichessPGNReader(\n",
    "    os.path.join(DATA_DIR, f\"lichess_db_{FILENAME}.pgn.zst\"),\n",
    "    TOTAL_GAMES\n",
    ")"
   ]
  },
  {
   "cell_type": "code",
   "execution_count": null,
   "metadata": {},
   "outputs": [
    {
     "name": "stderr",
     "output_type": "stream",
     "text": [
      "Retrieved 0 entries:   0%|          | 0.00/10.2M [00:00<?, ?it/s]"
     ]
    },
    {
     "name": "stderr",
     "output_type": "stream",
     "text": [
      "Retrieved 3,097,243 entries: 100%|██████████| 10.2M/10.2M [02:21<00:00, 72.3kit/s]\n"
     ]
    },
    {
     "name": "stdout",
     "output_type": "stream",
     "text": [
      "CPU times: user 2min 20s, sys: 2.28 s, total: 2min 23s\n",
      "Wall time: 2min 25s\n"
     ]
    }
   ],
   "source": [
    "%%time\n",
    "import pyarrow as pa\n",
    "\n",
    "tb = pa.Table.from_pylist(\n",
    "    [entry.model_dump() for entry in reader.tqdm_filter(accept_entry)]\n",
    ")"
   ]
  },
  {
   "cell_type": "code",
   "execution_count": null,
   "metadata": {},
   "outputs": [
    {
     "name": "stdout",
     "output_type": "stream",
     "text": [
      "CPU times: user 1min 48s, sys: 202 ms, total: 1min 48s\n",
      "Wall time: 1min 49s\n"
     ]
    }
   ],
   "source": [
    "%%time\n",
    "import gzip\n",
    "import orjson\n",
    "from tqdm import tqdm\n",
    "\n",
    "with gzip.open(os.path.join(DATA_DIR, f\"{FILENAME}_filtered.jsonl.gz\"), 'wb') as f:\n",
    "    for row in tqdm(tb.to_pylist(), desc=\"Writing lines to file\"):\n",
    "        f.write(orjson.dumps(row) + b\"\\n\")"
   ]
  }
 ],
 "metadata": {
  "kernelspec": {
   "display_name": ".venv",
   "language": "python",
   "name": "python3"
  },
  "language_info": {
   "codemirror_mode": {
    "name": "ipython",
    "version": 3
   },
   "file_extension": ".py",
   "mimetype": "text/x-python",
   "name": "python",
   "nbconvert_exporter": "python",
   "pygments_lexer": "ipython3",
   "version": "3.10.10"
  }
 },
 "nbformat": 4,
 "nbformat_minor": 2
}
