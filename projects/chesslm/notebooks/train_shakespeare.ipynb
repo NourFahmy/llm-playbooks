{
 "cells": [
  {
   "cell_type": "markdown",
   "metadata": {},
   "source": [
    "Largely adopted from https://github.com/karpathy/build-nanogpt/"
   ]
  },
  {
   "cell_type": "code",
   "execution_count": 1,
   "metadata": {},
   "outputs": [],
   "source": [
    "import os\n",
    "import torch"
   ]
  },
  {
   "cell_type": "code",
   "execution_count": 2,
   "metadata": {},
   "outputs": [],
   "source": [
    "DATASET_URL = (\n",
    "    \"https://raw.githubusercontent.com/karpathy/char-rnn/master\"\n",
    "    \"/data/tinyshakespeare/input.txt\"\n",
    ")\n",
    "DATA_DIR = os.path.expanduser(\"~/Data/tinyshakespeare\")\n",
    "DATA_FILENAME = \"input.txt\"\n",
    "DATA_FILEPATH = os.path.join(DATA_DIR, DATA_FILENAME)"
   ]
  },
  {
   "cell_type": "code",
   "execution_count": 3,
   "metadata": {},
   "outputs": [
    {
     "name": "stdout",
     "output_type": "stream",
     "text": [
      "using device: mps\n"
     ]
    }
   ],
   "source": [
    "DEVICE = \"cpu\"\n",
    "if torch.cuda.is_available():\n",
    "    DEVICE = \"cuda\"\n",
    "elif hasattr(torch.backends, \"mps\") and torch.backends.mps.is_available():\n",
    "    DEVICE = \"mps\"\n",
    "DEVICE_TYPE = \"cuda\" if DEVICE.startswith(\"cuda\") else \"cpu\"\n",
    "print(f\"using device: {DEVICE}\")\n",
    "\n",
    "\n",
    "SEED = 1337\n",
    "torch.manual_seed(SEED)\n",
    "if torch.cuda.is_available():\n",
    "    torch.cuda.manual_seed(SEED)"
   ]
  },
  {
   "cell_type": "markdown",
   "metadata": {},
   "source": [
    "## Load data"
   ]
  },
  {
   "cell_type": "code",
   "execution_count": 4,
   "metadata": {},
   "outputs": [
    {
     "name": "stdout",
     "output_type": "stream",
     "text": [
      "First Citizen:\n",
      "Before we proceed any further, hear me speak.\n",
      "\n",
      "All:\n",
      "Speak, speak.\n",
      "\n",
      "First Citizen:\n",
      "You are all resolved rather to die than to famish?\n",
      "\n",
      "All:\n",
      "Resolved. resolved.\n",
      "\n",
      "First Citizen:\n",
      "First, you know Caius Marcius is chief enemy to the people.\n",
      "\n",
      "All:\n",
      "We know't, we know't.\n",
      "\n",
      "First Citizen:\n",
      "Let us kill him, and we'll have corn at our own price.\n",
      "Is't a verdict?\n",
      "\n",
      "All:\n",
      "No more talking on't; let it be done: away, away!\n",
      "\n",
      "Second Citizen:\n",
      "One word, good citizens.\n",
      "\n",
      "First Citizen:\n",
      "We are accounted poor citizens, the patricians good.\n",
      "What authority surfeits on would relieve us: if they\n",
      "would yield us but the superfluity, while it were\n",
      "wholesome, we might guess they relieved us humanely;\n",
      "but they think we are too dear: the leanness that\n",
      "afflicts us, the object of our misery, is as an\n",
      "inventory to particularise their abundance; our\n",
      "sufferance is a gain to them Let us revenge this with\n",
      "our pikes, ere we become rakes: for the gods know I\n",
      "speak this in hunger for bread, not in thirst for revenge.\n",
      "\n",
      "\n"
     ]
    }
   ],
   "source": [
    "from urllib import request\n",
    "\n",
    "os.makedirs(DATA_DIR, exist_ok=True)\n",
    "if not os.path.isfile(DATA_FILEPATH):\n",
    "    content = request.urlopen(DATASET_URL)\n",
    "    with open(DATA_FILEPATH, \"wb\") as f:\n",
    "        f.write(content.read())\n",
    "\n",
    "with open(DATA_FILEPATH, \"r\") as f:\n",
    "    text = f.read()\n",
    "\n",
    "print(example := text[:1000])"
   ]
  },
  {
   "cell_type": "markdown",
   "metadata": {},
   "source": [
    "## Tokenization examples"
   ]
  },
  {
   "cell_type": "code",
   "execution_count": 5,
   "metadata": {},
   "outputs": [
    {
     "name": "stdout",
     "output_type": "stream",
     "text": [
      "[5962, 22307, 25, 198, 8421, 356, 5120, 597, 2252, 11, 3285, 502, 2740, 13, 198, 198, 3237, 25, 198, 5248, 461, 11, 2740, 13, 198]\n"
     ]
    }
   ],
   "source": [
    "import tiktoken\n",
    "\n",
    "enc = tiktoken.get_encoding(\"gpt2\")\n",
    "example_tokens = enc.encode(example)\n",
    "print(example_tokens[:24 + 1])"
   ]
  },
  {
   "cell_type": "code",
   "execution_count": 6,
   "metadata": {},
   "outputs": [
    {
     "name": "stdout",
     "output_type": "stream",
     "text": [
      "tensor([[ 5962, 22307,    25,   198,  8421,   356],\n",
      "        [ 5120,   597,  2252,    11,  3285,   502],\n",
      "        [ 2740,    13,   198,   198,  3237,    25],\n",
      "        [  198,  5248,   461,    11,  2740,    13]])\n",
      "tensor([[22307,    25,   198,  8421,   356,  5120],\n",
      "        [  597,  2252,    11,  3285,   502,  2740],\n",
      "        [   13,   198,   198,  3237,    25,   198],\n",
      "        [ 5248,   461,    11,  2740,    13,   198]])\n"
     ]
    }
   ],
   "source": [
    "example_buf = torch.tensor(example_tokens[:24 + 1])\n",
    "example_x = example_buf[:-1].view(4, 6)\n",
    "example_y = example_buf[1:].view(4, 6)  # predict the next token\n",
    "print(example_x)\n",
    "print(example_y)"
   ]
  },
  {
   "cell_type": "markdown",
   "metadata": {},
   "source": [
    "## Utils"
   ]
  },
  {
   "cell_type": "code",
   "execution_count": 7,
   "metadata": {},
   "outputs": [],
   "source": [
    "from typing import Optional\n",
    "from tiktoken.core import Encoding\n",
    "\n",
    "class DataLoaderLite:\n",
    "    # We are not doing DDP in this project whatsoever, and we're also only training on\n",
    "    # tinyshakespeare, so this is a significantly downsized version of the DataLoaderLite\n",
    "    # in the tutorial\n",
    "\n",
    "    def __init__(self, B: int, T: int, text: str, encoder: Optional[Encoding] = None):\n",
    "        self.B = B\n",
    "        self.T = T\n",
    "        self.text = text\n",
    "\n",
    "        self.encoder = encoder or tiktoken.get_encoding(\"gpt2\")\n",
    "        self._buf = []\n",
    "        self._pos = 0\n",
    "\n",
    "    def next_tokens(self, add_pred_token: bool = False) -> list[int]:\n",
    "        n_tokens = self.B * self.T + int(add_pred_token)\n",
    "        pos_step = n_tokens * 4\n",
    "\n",
    "        while len(self._buf) < n_tokens:\n",
    "            tokens = self.encoder.encode(text[self._pos : self._pos + pos_step])\n",
    "            self._buf.extend(tokens)\n",
    "\n",
    "        tokens = self._buf[: n_tokens]  # we want this many tokens\n",
    "        self._buf = self._buf[self.B * self.T :]  # remove BT tokens (not BT + 1!)\n",
    "        return tokens\n",
    "\n",
    "    def next_batch(self) -> tuple[torch.Tensor, torch.Tensor]:\n",
    "        batch_tokens = torch.as_tensor(self.next_tokens(add_pred_token=True))\n",
    "        x = (batch_tokens[:-1]).view(self.B, self.T) # inputs\n",
    "        y = (batch_tokens[1:]).view(self.B, self.T) # targets\n",
    "        return x, y"
   ]
  },
  {
   "cell_type": "code",
   "execution_count": 22,
   "metadata": {},
   "outputs": [
    {
     "data": {
      "text/plain": [
       "'First Citizen:\\nBefore we proceed any further, hear me speak.\\n\\nAll:\\nSpeak, speak.\\n'"
      ]
     },
     "metadata": {},
     "output_type": "display_data"
    },
    {
     "data": {
      "text/plain": [
       "'\\n\\nFirst Citizen:\\nYouFirst Citizen:\\nBefore we proceed any further, hear me speak.\\n\\nAll:'"
      ]
     },
     "metadata": {},
     "output_type": "display_data"
    },
    {
     "data": {
      "text/plain": [
       "':\\nSpeak, speak.\\n\\nFirst Citizen:\\nYouFirst Citizen:\\nBefore we proceed any further, hear'"
      ]
     },
     "metadata": {},
     "output_type": "display_data"
    },
    {
     "data": {
      "text/plain": [
       "' hear me speak.\\n\\nAll:\\nSpeak, speak.\\n\\nFirst Citizen:\\nYouFirst Citizen:\\n'"
      ]
     },
     "metadata": {},
     "output_type": "display_data"
    }
   ],
   "source": [
    "dataloader = DataLoaderLite(4, 6, text, encoder=enc)\n",
    "add_pred_token = True\n",
    "display(enc.decode(dataloader.next_tokens(add_pred_token=add_pred_token)))\n",
    "display(enc.decode(dataloader.next_tokens(add_pred_token=add_pred_token)))\n",
    "display(enc.decode(dataloader.next_tokens(add_pred_token=add_pred_token)))\n",
    "display(enc.decode(dataloader.next_tokens(add_pred_token=add_pred_token)))"
   ]
  }
 ],
 "metadata": {
  "kernelspec": {
   "display_name": ".venv",
   "language": "python",
   "name": "python3"
  },
  "language_info": {
   "codemirror_mode": {
    "name": "ipython",
    "version": 3
   },
   "file_extension": ".py",
   "mimetype": "text/x-python",
   "name": "python",
   "nbconvert_exporter": "python",
   "pygments_lexer": "ipython3",
   "version": "3.11.9"
  }
 },
 "nbformat": 4,
 "nbformat_minor": 2
}
