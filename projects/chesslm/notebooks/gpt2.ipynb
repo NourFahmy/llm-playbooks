{
 "cells": [
  {
   "cell_type": "markdown",
   "metadata": {},
   "source": [
    "Largely follows the tutorial from https://github.com/karpathy/build-nanogpt/"
   ]
  },
  {
   "cell_type": "code",
   "execution_count": 1,
   "metadata": {},
   "outputs": [],
   "source": [
    "BATCH_SIZE = 5\n",
    "MAX_LENGTH = 30\n",
    "SEED = 0"
   ]
  },
  {
   "cell_type": "code",
   "execution_count": 2,
   "metadata": {},
   "outputs": [
    {
     "name": "stdout",
     "output_type": "stream",
     "text": [
      "loading weights from pretrained gpt: gpt2\n"
     ]
    }
   ],
   "source": [
    "import torch\n",
    "from chesslm.gpt import GPT\n",
    "\n",
    "device = 'cuda' if torch.cuda.is_available() else 'cpu'\n",
    "\n",
    "model = GPT.from_pretrained(\"gpt2\")\n",
    "model.eval()\n",
    "model = model.to(device)"
   ]
  },
  {
   "cell_type": "code",
   "execution_count": 3,
   "metadata": {},
   "outputs": [],
   "source": [
    "import tiktoken\n",
    "\n",
    "enc = tiktoken.get_encoding(\"gpt2\")\n",
    "tokens = enc.encode(\"Hello, I'm a language model,\")\n",
    "tokens = torch.tensor(tokens, dtype=torch.long)\n",
    "tokens = tokens.unsqueeze(0).repeat(BATCH_SIZE, 1)\n",
    "x = tokens.to(device)"
   ]
  },
  {
   "cell_type": "code",
   "execution_count": 4,
   "metadata": {},
   "outputs": [
    {
     "data": {
      "application/vnd.jupyter.widget-view+json": {
       "model_id": "7899e3531a9b46f28f1383db0d6e34c7",
       "version_major": 2,
       "version_minor": 0
      },
      "text/plain": [
       "Generating tokens:   0%|          | 0/22 [00:00<?, ?it/s]"
      ]
     },
     "metadata": {},
     "output_type": "display_data"
    }
   ],
   "source": [
    "# generate! right now x is (B, T) where B = 5, T = 8\n",
    "import torch.nn.functional as F\n",
    "from tqdm.notebook import trange\n",
    "\n",
    "torch.manual_seed(SEED)\n",
    "torch.cuda.manual_seed(SEED)\n",
    "\n",
    "for _ in trange(MAX_LENGTH - x.size(1), desc=\"Generating tokens\"):\n",
    "    # forward the model to get the logits\n",
    "    with torch.no_grad():\n",
    "        logits = model(x) # (B, T, vocab_size)\n",
    "\n",
    "    # take the logits at the last position\n",
    "    logits = logits[:, -1, :] # (B, vocab_size)\n",
    "\n",
    "    # get the probabilities\n",
    "    probs = F.softmax(logits, dim=1)\n",
    "\n",
    "    # do top-k sampling of 50 (huggingface pipeline default)\n",
    "    # topk_probs here becomes (5, 50), topk_indices is (5, 50)\n",
    "    topk_probs, topk_indices = torch.topk(probs, 50)\n",
    "\n",
    "    # select a token from the top-k probabilities\n",
    "    ix = torch.multinomial(topk_probs, 1) # (B, 1)\n",
    "\n",
    "    # gather the corresponding indices\n",
    "    xcol = torch.gather(topk_indices, -1, ix) # (B, 1)\n",
    "\n",
    "    # append to the sequence\n",
    "    x = torch.cat((x, xcol), dim=1)"
   ]
  },
  {
   "cell_type": "code",
   "execution_count": 5,
   "metadata": {},
   "outputs": [
    {
     "data": {
      "text/plain": [
       "\"Hello, I'm a language model, and we're a model, we're a language the language, language the, language the, language the,\""
      ]
     },
     "metadata": {},
     "output_type": "display_data"
    },
    {
     "data": {
      "text/plain": [
       "\"Hello, I'm a language model, we have a model we want to a language to, we want a model we, we have a language,\""
      ]
     },
     "metadata": {},
     "output_type": "display_data"
    },
    {
     "data": {
      "text/plain": [
       "\"Hello, I'm a language model, I'm language I believe it an interpreter, interpreters I, interpreter a language I, a interpreter a,\""
      ]
     },
     "metadata": {},
     "output_type": "display_data"
    },
    {
     "data": {
      "text/plain": [
       "\"Hello, I'm a language model, and a thing a thing a model and a and model a and model an object a and object an object,\""
      ]
     },
     "metadata": {},
     "output_type": "display_data"
    },
    {
     "data": {
      "text/plain": [
       "\"Hello, I'm a language model, I think a language I think a language there a language I think a language a language a, some language a\""
      ]
     },
     "metadata": {},
     "output_type": "display_data"
    }
   ],
   "source": [
    "# print the generated text\n",
    "for i in range(BATCH_SIZE):\n",
    "    tokens = x[i, :MAX_LENGTH].tolist()\n",
    "    decoded = enc.decode(tokens)\n",
    "    display(decoded.strip())"
   ]
  }
 ],
 "metadata": {
  "kernelspec": {
   "display_name": "cloudspace",
   "language": "python",
   "name": "python3"
  },
  "language_info": {
   "codemirror_mode": {
    "name": "ipython",
    "version": 3
   },
   "file_extension": ".py",
   "mimetype": "text/x-python",
   "name": "python",
   "nbconvert_exporter": "python",
   "pygments_lexer": "ipython3",
   "version": "3.10.14"
  }
 },
 "nbformat": 4,
 "nbformat_minor": 2
}
