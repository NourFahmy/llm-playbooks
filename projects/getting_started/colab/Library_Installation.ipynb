{
 "cells": [
  {
   "cell_type": "code",
   "execution_count": 1,
   "metadata": {},
   "outputs": [
    {
     "name": "stdout",
     "output_type": "stream",
     "text": [
      "In my project, I have a bunch of strings that are.\n",
      "Read in from a file.\n",
      "Most of them, when printed in the command console, exceed 80. Characters in length and\n",
      "ꜛwrap around, looking ugly.\n"
     ]
    }
   ],
   "source": [
    "from llm_playbooks.utils.colab import print_wrap\n",
    "\n",
    "text = \"\"\"In my project, I have a bunch of strings that are.\n",
    "Read in from a file.\n",
    "Most of them, when printed in the command console, exceed 80. Characters in length and wrap around, looking ugly.\"\"\"\n",
    "\n",
    "print_wrap(text)"
   ]
  }
 ],
 "metadata": {
  "kernelspec": {
   "display_name": "llm-playbooks",
   "language": "python",
   "name": "python3"
  },
  "language_info": {
   "codemirror_mode": {
    "name": "ipython",
    "version": 3
   },
   "file_extension": ".py",
   "mimetype": "text/x-python",
   "name": "python",
   "nbconvert_exporter": "python",
   "pygments_lexer": "ipython3",
   "version": "3.11.4"
  },
  "orig_nbformat": 4
 },
 "nbformat": 4,
 "nbformat_minor": 2
}
